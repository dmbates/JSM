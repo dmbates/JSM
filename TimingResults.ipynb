{
 "cells": [
  {
   "cell_type": "markdown",
   "metadata": {},
   "source": [
    "# Timing comparisons for lme4 and MixedModels\n",
    "\n",
    "The [`lme4`](https://github.com/lme4/lme4) package for [R](http://R-project.org) and the [`MixedModels`](https://github.com/dmbates/MixedModels.jl) for [Julia](http://JuliaLang.org) both provide functions to fit linear and generalized linear mixed-effects models.\n",
    "\n",
    "This notebook provides an analysis of the results of fitting several model/dataset combinations in both of these systems.  The versions of the packages and the configuration of the computer are:\n",
    "\n",
    "- __Julia version__: 0.4.6 (2016-06-19 17:16 UTC)\n",
    "- __MixedModels version__: 0.5.5\n",
    "- __R version__: 3.3.1 (2016-06-21)\n",
    "- __lme4 version__: 1.1.13\n",
    "- __CPU:__ Intel(R) Xeon(R) CPU E5-2680 v3 @ 2.50GHz\n",
    "- __OS:__ Linux\n",
    "- __CPU_CORES__: 48\n",
    "- __WORD_SIZE:__ 64-bit\n",
    "- __BLAS:__ libopenblas64 (Julia)\n",
    "- __memory:__ 125.808 GB\n"
   ]
  },
  {
   "cell_type": "code",
   "execution_count": 1,
   "metadata": {
    "collapsed": false
   },
   "outputs": [
    {
     "name": "stdout",
     "output_type": "stream",
     "text": [
      "[:dsmodel,:n,:nopt,:p,:q,:optimizer,:objective,:elapsed,:neval]"
     ]
    }
   ],
   "source": [
    "using DataFrames, DataFramesMeta, RCall\n",
    "results = readtable(\"results50.csv\")\n",
    "show(names(results))"
   ]
  },
  {
   "cell_type": "markdown",
   "metadata": {},
   "source": [
    "These columns are:\n",
    "- `dsname`: a string constructed from the dataset name and the model specification\n",
    "- `n`: the number of observations in the data set\n",
    "- `nopt`: the dimension of the vector $\\theta$ over which the optimization takes place\n",
    "- `p`: the dimension of the fixed-effects parameter vector, $\\beta$\n",
    "- `optimizer`: the name of the optimizer used\n",
    "- `objective`: the minimum value of the objective achieved\n",
    "- `elapsed`: elapsed time (seconds)\n",
    "- `neval`: number of evaluations until convergence is declared\n",
    "\n",
    "## Comparing the accuracy of the optimizers\n",
    "\n",
    "For optimization problems such as considered here we cannot \"prove\" convergence.  The best we can do is to use several different optimizers on the same problem and assume that the minimum achieved by any of the optimizers is close to the actual minimum.  We then must determine if the results of the other optimizers are \"close enough\" to this value.  For this we calculate `:excess`, the difference between the achieved objective value and the minimum over the all the optimizers applied to that `dsmodel`.\n",
    "\n",
    "This objective is negative twice the log-likelihood, the quantity used in a likelihood ratio test comparing nested models.  This leads us to define \"close enough\" as within 0.001 of the minimum over all the optimizers."
   ]
  },
  {
   "cell_type": "code",
   "execution_count": 2,
   "metadata": {
    "collapsed": false
   },
   "outputs": [
    {
     "data": {
      "text/html": [
       "<table class=\"data-frame\"><tr><th></th><th>optimizer</th><th>nmod</th><th>nfail</th><th>maxexcess</th></tr><tr><th>1</th><td>LN_BOBYQA</td><td>50</td><td>1</td><td>0.024007960950257257</td></tr><tr><th>2</th><td>LN_COBYLA</td><td>49</td><td>2</td><td>0.02372480147096212</td></tr><tr><th>3</th><td>LN_NELDERMEAD</td><td>43</td><td>4</td><td>571.3482102986018</td></tr><tr><th>4</th><td>LN_SBPLX</td><td>49</td><td>2</td><td>4.963593877149833</td></tr><tr><th>5</th><td>NLOPT_LN_BOBYQA</td><td>50</td><td>2</td><td>0.0305885131310788</td></tr><tr><th>6</th><td>NLOPT_LN_COBYLA</td><td>49</td><td>9</td><td>45.08287241923972</td></tr><tr><th>7</th><td>NLOPT_LN_NELDERMEAD</td><td>43</td><td>2</td><td>571.3482104094292</td></tr><tr><th>8</th><td>NLOPT_LN_SBPLX</td><td>49</td><td>2</td><td>4.96360512209867</td></tr><tr><th>9</th><td>Nelder_Mead</td><td>43</td><td>3</td><td>331.52563495002687</td></tr><tr><th>10</th><td>bobyqa</td><td>49</td><td>2</td><td>18.22487979023117</td></tr><tr><th>11</th><td>optimx:L-BFGS-B</td><td>49</td><td>2</td><td>0.02413469974999316</td></tr><tr><th>12</th><td>optimx:bobyqa</td><td>49</td><td>2</td><td>18.22487979023117</td></tr><tr><th>13</th><td>optimx:nlminb</td><td>49</td><td>0</td><td>0.00037976292151142843</td></tr><tr><th>14</th><td>optimx:spg</td><td>49</td><td>4</td><td>0.9347136863673882</td></tr></table>"
      ],
      "text/plain": [
       "14×4 DataFrames.DataFrame\n",
       "│ Row │ optimizer             │ nmod │ nfail │ maxexcess   │\n",
       "├─────┼───────────────────────┼──────┼───────┼─────────────┤\n",
       "│ 1   │ \"LN_BOBYQA\"           │ 50   │ 1     │ 0.024008    │\n",
       "│ 2   │ \"LN_COBYLA\"           │ 49   │ 2     │ 0.0237248   │\n",
       "│ 3   │ \"LN_NELDERMEAD\"       │ 43   │ 4     │ 571.348     │\n",
       "│ 4   │ \"LN_SBPLX\"            │ 49   │ 2     │ 4.96359     │\n",
       "│ 5   │ \"NLOPT_LN_BOBYQA\"     │ 50   │ 2     │ 0.0305885   │\n",
       "│ 6   │ \"NLOPT_LN_COBYLA\"     │ 49   │ 9     │ 45.0829     │\n",
       "│ 7   │ \"NLOPT_LN_NELDERMEAD\" │ 43   │ 2     │ 571.348     │\n",
       "│ 8   │ \"NLOPT_LN_SBPLX\"      │ 49   │ 2     │ 4.96361     │\n",
       "│ 9   │ \"Nelder_Mead\"         │ 43   │ 3     │ 331.526     │\n",
       "│ 10  │ \"bobyqa\"              │ 49   │ 2     │ 18.2249     │\n",
       "│ 11  │ \"optimx:L-BFGS-B\"     │ 49   │ 2     │ 0.0241347   │\n",
       "│ 12  │ \"optimx:bobyqa\"       │ 49   │ 2     │ 18.2249     │\n",
       "│ 13  │ \"optimx:nlminb\"       │ 49   │ 0     │ 0.000379763 │\n",
       "│ 14  │ \"optimx:spg\"          │ 49   │ 4     │ 0.934714    │"
      ]
     },
     "execution_count": 2,
     "metadata": {},
     "output_type": "execute_result"
    }
   ],
   "source": [
    "excess = @by(results, :dsmodel, optimizer = :optimizer, excess = :objective .- minimum(:objective));\n",
    "results = join(results, excess, on = [:dsmodel,:optimizer]);\n",
    "@by(results, :optimizer, nmod = length(:excess),\n",
    "    nfail = sum(:excess .> 0.001), \n",
    "    maxexcess = maximum(:excess))"
   ]
  },
  {
   "cell_type": "markdown",
   "metadata": {},
   "source": [
    "The optimizers whose names begin with \"LN\\_\" are user with `lmm`, the others with `lmer`.  The default for `lmm` is `LN_BOBYQA`, the implementation of Powell's \"__B__ounded __O__ptimization __BY Q__uadratic __O__ptimization\" algorithm in Steven Johnson's [`NLopt`](https://github.com/stevengj/nlopt) package.  Those whose names begin with `NLOPT_LN_` are `R` optimizers that use same optimization library. Those whose names begin with `optimx:` are from the `optimx` package from R.  The `bobyqa` and `Nelder_Mead` optimizers are built-in to the [`lme4`](https://github.com/lme4/lme4) package for R.\n",
    "\n",
    "Only `optimx:nlminb` has an unblemished record using this criterion and `LN_BOBYQA` failed once with an excess objective of 0.024.  While above the threshold being used, this is not a terribly alarming failue.\n",
    "\n",
    "The various implementations of the Nelder-Mead optimizer failed more frequently and sometimes failed badly.  It is interesting that the same underlying code for the `LN_NELDERMEAD` and `NLOPT_LN_NELDERMEAD` optimizers fails a different number of times in `lmm` and `lmer`.  The evaluation of the objective is done in slightly different ways in the Julia and R implementations and the values may not be identical.  Nevertheless this shows an undesirable fragility in the algorithm.  We will also see below that the Nelder-Mead algorithm is unacceptably slow.\n",
    "\n",
    "The `bobyqa` and `optimx:bobyqa` algorithms provide similar results, which we would expect given that the underlying optimization code is the same (Powell's original Fortran code) and the evaluation of the objective function is being done in R in both cases.  Nevertheless on at least one problem the excess objective is unacceptably large.  The `NLOPT_LN_BOBYQA` optimizer, using Steven Johnson's implementation of Powell's algorithm, is better behaved.\n",
    "\n",
    "The same evaluation by model provides"
   ]
  },
  {
   "cell_type": "code",
   "execution_count": 3,
   "metadata": {
    "collapsed": false
   },
   "outputs": [
    {
     "data": {
      "text/html": [
       "<table class=\"data-frame\"><tr><th></th><th>dsmodel</th><th>nopt</th><th>nfit</th><th>nfail</th><th>maxexcess</th></tr><tr><th>1</th><td>Alfalfa:1+A*B+(1|G)</td><td>1</td><td>14</td><td>0</td><td>9.568086767330897e-8</td></tr><tr><th>2</th><td>Animal:1+(1|G)+(1|H)</td><td>2</td><td>14</td><td>0</td><td>1.7131050533691905e-7</td></tr><tr><th>3</th><td>Assay:1+A+B*C+(1|G)+(1|H)</td><td>2</td><td>14</td><td>3</td><td>0.05941755072529986</td></tr><tr><th>4</th><td>AvgDailyGain:1+A*U+(1|G)</td><td>1</td><td>14</td><td>0</td><td>1.0651787007986968e-7</td></tr><tr><th>5</th><td>AvgDailyGain:1+A+U+(1|G)</td><td>1</td><td>14</td><td>0</td><td>8.188084663629525e-7</td></tr><tr><th>6</th><td>BIB:1+A*U+(1|G)</td><td>1</td><td>14</td><td>0</td><td>1.0574984798950027e-7</td></tr><tr><th>7</th><td>Bond:1+A+(1|G)</td><td>1</td><td>14</td><td>0</td><td>7.685343916818965e-8</td></tr><tr><th>8</th><td>Chem97:1+(1|G)+(1|H)</td><td>2</td><td>14</td><td>0</td><td>0.00011188595090061426</td></tr><tr><th>9</th><td>Chem97:1+U+(1|G)+(1|H)</td><td>2</td><td>14</td><td>0</td><td>0.0005652161489706486</td></tr><tr><th>10</th><td>Cultivation:1+A*B+(1|G)</td><td>1</td><td>14</td><td>0</td><td>7.671658863728226e-9</td></tr><tr><th>11</th><td>Demand:1+U+V+W+X+(1|G)+(1|H)</td><td>2</td><td>14</td><td>1</td><td>3.2192753694204725</td></tr><tr><th>12</th><td>Dyestuff2:1+(1|G)</td><td>1</td><td>14</td><td>0</td><td>1.883876166175469e-9</td></tr><tr><th>13</th><td>Dyestuff:1+(1|G)</td><td>1</td><td>14</td><td>0</td><td>1.1326283697599138e-6</td></tr><tr><th>14</th><td>Exam:1+A+B+U+(1|G)</td><td>1</td><td>14</td><td>0</td><td>8.27631083666347e-7</td></tr><tr><th>15</th><td>Gasoline:1+U+(1|G)</td><td>1</td><td>14</td><td>0</td><td>1.1812602451755083e-7</td></tr><tr><th>16</th><td>Genetics:1+A+(1|G)+(1|H)</td><td>2</td><td>14</td><td>0</td><td>2.5980034479289316e-7</td></tr><tr><th>17</th><td>HR:1+A*U+V+((1+U)|G)</td><td>3</td><td>14</td><td>0</td><td>1.333915406576125e-6</td></tr><tr><th>18</th><td>Hsb82:1+A+B+C+U+(1|G)</td><td>1</td><td>14</td><td>0</td><td>1.402033376507461e-6</td></tr><tr><th>19</th><td>IncBlk:1+A+U+V+W+Z+(1|G)</td><td>1</td><td>14</td><td>1</td><td>0.5572572121553634</td></tr><tr><th>20</th><td>InstEval:1+A+(1|G)+(1|H)+(1|I)</td><td>3</td><td>14</td><td>0</td><td>0.0017007821006700397</td></tr><tr><th>21</th><td>InstEval:1+I*A+(1|G)+(1|H)</td><td>2</td><td>14</td><td>0</td><td>7.575639756396413e-6</td></tr><tr><th>22</th><td>Mississippi:1+A+(1|G)</td><td>1</td><td>14</td><td>1</td><td>0.9347136863673882</td></tr><tr><th>23</th><td>Oxboys:1+U+((1+U)|G)</td><td>3</td><td>14</td><td>0</td><td>2.603866391837073e-6</td></tr><tr><th>24</th><td>PBIB:1+A+(1|G)</td><td>1</td><td>14</td><td>0</td><td>3.533926928867004e-8</td></tr><tr><th>25</th><td>Pastes:1+(1|G)+(1|H)</td><td>2</td><td>14</td><td>0</td><td>1.2383966918605438e-6</td></tr><tr><th>26</th><td>Penicillin:1+(1|G)+(1|H)</td><td>2</td><td>14</td><td>0</td><td>4.487771434469323e-6</td></tr><tr><th>27</th><td>Poems:1+U+V+(1|G)+(1|H)+(1|I)</td><td>3</td><td>14</td><td>0</td><td>1.4290009858086705e-5</td></tr><tr><th>28</th><td>SIMS:1+U+((1+U)|G)</td><td>3</td><td>14</td><td>0</td><td>0.004286909635993652</td></tr><tr><th>29</th><td>ScotsSec:1+A+U+V+(1|G)+(1|H)</td><td>2</td><td>14</td><td>0</td><td>0.04014510389060888</td></tr><tr><th>30</th><td>Semi2:1+A+(1|G)+(1|H)</td><td>2</td><td>14</td><td>0</td><td>7.915443802630762e-7</td></tr><tr><th>&vellip;</th><td>&vellip;</td><td>&vellip;</td><td>&vellip;</td><td>&vellip;</td><td>&vellip;</td></tr></table>"
      ],
      "text/plain": [
       "50×5 DataFrames.DataFrame\n",
       "│ Row │ ├─────┼\n",
       "│ 1   │ │ 2   │ │ 3   │ │ 4   │ │ 5   │ │ 6   │ │ 7   │ │ 8   │ │ 9   │ │ 10  │ │ 11  │ \n",
       "⋮\n",
       "│ 39  │ │ 40  │ │ 41  │ │ 42  │ │ 43  │ │ 44  │ │ 45  │ │ 46  │ │ 47  │ │ 48  │ │ 49  │ │ 50  │ \n",
       "\n",
       "│ Row │ dsmodel                                                                                                                                                                        │\n",
       "├─────┼────────────────────────────────────────────────────────────────────────────────────────────────────────────────────────────────────────────────────────────────────────────────┤\n",
       "│ 1   │ \"Alfalfa:1+A*B+(1|G)\"                                                                                                                                                          │\n",
       "│ 2   │ \"Animal:1+(1|G)+(1|H)\"                                                                                                                                                         │\n",
       "│ 3   │ \"Assay:1+A+B*C+(1|G)+(1|H)\"                                                                                                                                                    │\n",
       "│ 4   │ \"AvgDailyGain:1+A*U+(1|G)\"                                                                                                                                                     │\n",
       "│ 5   │ \"AvgDailyGain:1+A+U+(1|G)\"                                                                                                                                                     │\n",
       "│ 6   │ \"BIB:1+A*U+(1|G)\"                                                                                                                                                              │\n",
       "│ 7   │ \"Bond:1+A+(1|G)\"                                                                                                                                                               │\n",
       "│ 8   │ \"Chem97:1+(1|G)+(1|H)\"                                                                                                                                                         │\n",
       "│ 9   │ \"Chem97:1+U+(1|G)+(1|H)\"                                                                                                                                                       │\n",
       "│ 10  │ \"Cultivation:1+A*B+(1|G)\"                                                                                                                                                      │\n",
       "│ 11  │ \"Demand:1+U+V+W+X+(1|G)+(1|H)\"                                                                                                                                                 │\n",
       "⋮\n",
       "│ 39  │ \"ergoStool:1+A+(1|G)\"                                                                                                                                                          │\n",
       "│ 40  │ \"gb12:1+S+T+U+V+W+(1|G)+((0+S)|G)+((0+U)|G)+((0+W)|G)+(1|H)+((0+S)|H)+((0+T)|H)+((0+V)|H)\"                                                                                     │\n",
       "│ 41  │ \"gb12:1+S+T+U+V+W+X+Z+((1+S+U+W)|G)+((1+S+T+V)|H)\"                                                                                                                             │\n",
       "│ 42  │ \"kb07:1+S+T+U+V+W+X+Z+((1+S+T+U+V+W+X+Z)|G)+((1+S+T+U+V+W+X+Z)|H)\"                                                                                                             │\n",
       "│ 43  │ \"kb07:1+S+T+U+V+W+X+Z+(1|G)+((0+S)|G)+((0+T)|G)+((0+U)|G)+((0+V)|G)+((0+W)|G)+((0+X)|G)+((0+Z)|G)+(1|H)+((0+S)|H)+((0+T)|H)+((0+U)|H)+((0+V)|H)+((0+W)|H)+((0+X)|H)+((0+Z)|H)\" │\n",
       "│ 44  │ \"ml10m:1+(1|G)+(1|H)\"                                                                                                                                                          │\n",
       "│ 45  │ \"ml1m:1+(1|G)+(1|H)\"                                                                                                                                                           │\n",
       "│ 46  │ \"mm0:1+A*U+((1+U)|G)+((1+U)|H)\"                                                                                                                                                │\n",
       "│ 47  │ \"paulsim:1+S+T+U+(0+S|G)\"                                                                                                                                                      │\n",
       "│ 48  │ \"paulsim:1+S+T+U+(1|G)+(0+S|G)\"                                                                                                                                                │\n",
       "│ 49  │ \"sleepstudy:1+U+((1+U)|G)\"                                                                                                                                                     │\n",
       "│ 50  │ \"sleepstudy:1+U+(1|G)+(0+U|G)\"                                                                                                                                                 │\n",
       "\n",
       "│ Row │ nopt │ nfit │ nfail │ maxexcess   │\n",
       "├─────┼──────┼──────┼───────┼─────────────┤\n",
       "│ 1   │ 1    │ 14   │ 0     │ 9.56809e-8  │\n",
       "│ 2   │ 2    │ 14   │ 0     │ 1.71311e-7  │\n",
       "│ 3   │ 2    │ 14   │ 3     │ 0.0594176   │\n",
       "│ 4   │ 1    │ 14   │ 0     │ 1.06518e-7  │\n",
       "│ 5   │ 1    │ 14   │ 0     │ 8.18808e-7  │\n",
       "│ 6   │ 1    │ 14   │ 0     │ 1.0575e-7   │\n",
       "│ 7   │ 1    │ 14   │ 0     │ 7.68534e-8  │\n",
       "│ 8   │ 2    │ 14   │ 0     │ 0.000111886 │\n",
       "│ 9   │ 2    │ 14   │ 0     │ 0.000565216 │\n",
       "│ 10  │ 1    │ 14   │ 0     │ 7.67166e-9  │\n",
       "│ 11  │ 2    │ 14   │ 1     │ 3.21928     │\n",
       "⋮\n",
       "│ 39  │ 1    │ 14   │ 0     │ 3.31412e-7  │\n",
       "│ 40  │ 8    │ 11   │ 0     │ 6.94001e-5  │\n",
       "│ 41  │ 20   │ 11   │ 5     │ 0.895502    │\n",
       "│ 42  │ 72   │ 11   │ 3     │ 4.96361     │\n",
       "│ 43  │ 16   │ 11   │ 0     │ 3.39766e-5  │\n",
       "│ 44  │ 2    │ 2    │ 0     │ 2.19792e-7  │\n",
       "│ 45  │ 2    │ 14   │ 0     │ 6.87167e-5  │\n",
       "│ 46  │ 6    │ 14   │ 1     │ 181.632     │\n",
       "│ 47  │ 1    │ 14   │ 0     │ 0.0162407   │\n",
       "│ 48  │ 2    │ 14   │ 4     │ 571.348     │\n",
       "│ 49  │ 3    │ 14   │ 0     │ 3.90343e-5  │\n",
       "│ 50  │ 2    │ 14   │ 0     │ 3.66889e-6  │"
      ]
     },
     "execution_count": 3,
     "metadata": {},
     "output_type": "execute_result"
    }
   ],
   "source": [
    "modelexcess = @by(results, :dsmodel, nopt = :nopt[1], nfit = length(:excess),\n",
    "    nfail = sum(:excess .> 0.05), \n",
    "    maxexcess = maximum(:excess))"
   ]
  },
  {
   "cell_type": "code",
   "execution_count": 4,
   "metadata": {
    "collapsed": false
   },
   "outputs": [
    {
     "data": {
      "text/html": [
       "<table class=\"data-frame\"><tr><th></th><th>dsmodel</th><th>nopt</th><th>nfit</th><th>nfail</th><th>maxexcess</th></tr><tr><th>1</th><td>Assay:1+A+B*C+(1|G)+(1|H)</td><td>2</td><td>14</td><td>3</td><td>0.05941755072529986</td></tr><tr><th>2</th><td>gb12:1+S+T+U+V+W+X+Z+((1+S+U+W)|G)+((1+S+T+V)|H)</td><td>20</td><td>11</td><td>5</td><td>0.8955019967434055</td></tr><tr><th>3</th><td>kb07:1+S+T+U+V+W+X+Z+((1+S+T+U+V+W+X+Z)|G)+((1+S+T+U+V+W+X+Z)|H)</td><td>72</td><td>11</td><td>3</td><td>4.96360512209867</td></tr><tr><th>4</th><td>paulsim:1+S+T+U+(1|G)+(0+S|G)</td><td>2</td><td>14</td><td>4</td><td>571.3482104094292</td></tr></table>"
      ],
      "text/plain": [
       "4×5 DataFrames.DataFrame\n",
       "│ Row │ dsmodel                                                            │\n",
       "├─────┼────────────────────────────────────────────────────────────────────┤\n",
       "│ 1   │ \"Assay:1+A+B*C+(1|G)+(1|H)\"                                        │\n",
       "│ 2   │ \"gb12:1+S+T+U+V+W+X+Z+((1+S+U+W)|G)+((1+S+T+V)|H)\"                 │\n",
       "│ 3   │ \"kb07:1+S+T+U+V+W+X+Z+((1+S+T+U+V+W+X+Z)|G)+((1+S+T+U+V+W+X+Z)|H)\" │\n",
       "│ 4   │ \"paulsim:1+S+T+U+(1|G)+(0+S|G)\"                                    │\n",
       "\n",
       "│ Row │ nopt │ nfit │ nfail │ maxexcess │\n",
       "├─────┼──────┼──────┼───────┼───────────┤\n",
       "│ 1   │ 2    │ 14   │ 3     │ 0.0594176 │\n",
       "│ 2   │ 20   │ 11   │ 5     │ 0.895502  │\n",
       "│ 3   │ 72   │ 11   │ 3     │ 4.96361   │\n",
       "│ 4   │ 2    │ 14   │ 4     │ 571.348   │"
      ]
     },
     "execution_count": 4,
     "metadata": {},
     "output_type": "execute_result"
    }
   ],
   "source": [
    "@where(modelexcess, :nfail .> 2)"
   ]
  },
  {
   "cell_type": "markdown",
   "metadata": {},
   "source": [
    "Regarding the one failure of `LN_BOBYQA`, it was on a model fit to the `kb07` data and requiring a constrained nonlinear optimization over 72 parameters.  This is unusually large - all the other problems involve 20 or fewer parameters."
   ]
  },
  {
   "cell_type": "code",
   "execution_count": 5,
   "metadata": {
    "collapsed": false
   },
   "outputs": [
    {
     "data": {
      "image/png": "[encoded data removed]"
     },
     "metadata": {},
     "output_type": "display_data"
    },
    {
     "data": {
      "text/plain": [
       "RCall.RObject{RCall.VecSxp}\n"
      ]
     },
     "execution_count": 5,
     "metadata": {},
     "output_type": "execute_result"
    }
   ],
   "source": [
    "nopt = @by(results, :dsmodel, nopt = :nopt[1])\n",
    "R\"\"\"\n",
    "library(lattice)\n",
    "suppressMessages(library(ggplot2))\n",
    "histogram(~ nopt, $nopt, xlab = \"Parameters in nonlinear optimization\",\n",
    "type = \"count\", breaks = (1:80) - 0.5)\n",
    "\"\"\""
   ]
  },
  {
   "cell_type": "markdown",
   "metadata": {},
   "source": [
    "This particular model is hopelessly overparameterized with a very flat log-likelihood surface.  Such overparameterized models will inevitably converge to singular estimates of the covariance matrices for the random effects. These are local minima on the boundary of the allowable parameter space.  It happens in this case that one optimizer takes a slightly different path and ends up at a local minimum with a lower objective value than the local minimum to which most of the others converge."
   ]
  },
  {
   "cell_type": "code",
   "execution_count": 6,
   "metadata": {
    "collapsed": false
   },
   "outputs": [
    {
     "data": {
      "text/html": [
       "<table class=\"data-frame\"><tr><th></th><th>dsmodel</th><th>n</th><th>nopt</th><th>p</th><th>q</th><th>optimizer</th><th>objective</th><th>elapsed</th><th>neval</th><th>excess</th></tr><tr><th>1</th><td>kb07:1+S+T+U+V+W+X+Z+((1+S+T+U+V+W+X+Z)|G)+((1+S+T+U+V+W+X+Z)|H)</td><td>1790</td><td>72</td><td>8</td><td>448:256</td><td>LN_BOBYQA</td><td>28586.341621161664</td><td>16.045582265</td><td>1949</td><td>0.024007960950257257</td></tr><tr><th>2</th><td>kb07:1+S+T+U+V+W+X+Z+((1+S+T+U+V+W+X+Z)|G)+((1+S+T+U+V+W+X+Z)|H)</td><td>1790</td><td>72</td><td>8</td><td>448:256</td><td>LN_COBYLA</td><td>28586.341338002185</td><td>1127.007904242</td><td>129098</td><td>0.02372480147096212</td></tr><tr><th>3</th><td>kb07:1+S+T+U+V+W+X+Z+((1+S+T+U+V+W+X+Z)|G)+((1+S+T+U+V+W+X+Z)|H)</td><td>1790</td><td>72</td><td>8</td><td>448:256</td><td>LN_SBPLX</td><td>28591.281207077864</td><td>135.8195995</td><td>16903</td><td>4.963593877149833</td></tr><tr><th>4</th><td>kb07:1+S+T+U+V+W+X+Z+((1+S+T+U+V+W+X+Z)|G)+((1+S+T+U+V+W+X+Z)|H)</td><td>1790</td><td>72</td><td>8</td><td>448:256</td><td>NLOPT_LN_BOBYQA</td><td>28586.348201713845</td><td>32.673</td><td>1535</td><td>0.0305885131310788</td></tr><tr><th>5</th><td>kb07:1+S+T+U+V+W+X+Z+((1+S+T+U+V+W+X+Z)|G)+((1+S+T+U+V+W+X+Z)|H)</td><td>1790</td><td>72</td><td>8</td><td>448:256</td><td>NLOPT_LN_COBYLA</td><td>28586.320496452074</td><td>513.199</td><td>24585</td><td>0.0028832513598899823</td></tr><tr><th>6</th><td>kb07:1+S+T+U+V+W+X+Z+((1+S+T+U+V+W+X+Z)|G)+((1+S+T+U+V+W+X+Z)|H)</td><td>1790</td><td>72</td><td>8</td><td>448:256</td><td>NLOPT_LN_SBPLX</td><td>28591.281218322812</td><td>421.246</td><td>8851</td><td>4.96360512209867</td></tr><tr><th>7</th><td>kb07:1+S+T+U+V+W+X+Z+((1+S+T+U+V+W+X+Z)|G)+((1+S+T+U+V+W+X+Z)|H)</td><td>1790</td><td>72</td><td>8</td><td>448:256</td><td>bobyqa</td><td>28586.317613200714</td><td>318.717</td><td>15265</td><td>0.0</td></tr><tr><th>8</th><td>kb07:1+S+T+U+V+W+X+Z+((1+S+T+U+V+W+X+Z)|G)+((1+S+T+U+V+W+X+Z)|H)</td><td>1790</td><td>72</td><td>8</td><td>448:256</td><td>optimx:L-BFGS-B</td><td>28586.317776241674</td><td>174.617</td><td>6</td><td>0.00016304096061503515</td></tr><tr><th>9</th><td>kb07:1+S+T+U+V+W+X+Z+((1+S+T+U+V+W+X+Z)|G)+((1+S+T+U+V+W+X+Z)|H)</td><td>1790</td><td>72</td><td>8</td><td>448:256</td><td>optimx:bobyqa</td><td>28586.317613200714</td><td>323.417</td><td>NA</td><td>0.0</td></tr><tr><th>10</th><td>kb07:1+S+T+U+V+W+X+Z+((1+S+T+U+V+W+X+Z)|G)+((1+S+T+U+V+W+X+Z)|H)</td><td>1790</td><td>72</td><td>8</td><td>448:256</td><td>optimx:nlminb</td><td>28586.317992963635</td><td>431.309</td><td>20108</td><td>0.00037976292151142843</td></tr><tr><th>11</th><td>kb07:1+S+T+U+V+W+X+Z+((1+S+T+U+V+W+X+Z)|G)+((1+S+T+U+V+W+X+Z)|H)</td><td>1790</td><td>72</td><td>8</td><td>448:256</td><td>optimx:spg</td><td>28586.389583843116</td><td>130.093</td><td>NA</td><td>0.07197064240244799</td></tr></table>"
      ],
      "text/plain": [
       "11×10 DataFrames.DataFrame\n",
       "│ Row │ dsmodel                                                            │\n",
       "├─────┼────────────────────────────────────────────────────────────────────┤\n",
       "│ 1   │ \"kb07:1+S+T+U+V+W+X+Z+((1+S+T+U+V+W+X+Z)|G)+((1+S+T+U+V+W+X+Z)|H)\" │\n",
       "│ 2   │ \"kb07:1+S+T+U+V+W+X+Z+((1+S+T+U+V+W+X+Z)|G)+((1+S+T+U+V+W+X+Z)|H)\" │\n",
       "│ 3   │ \"kb07:1+S+T+U+V+W+X+Z+((1+S+T+U+V+W+X+Z)|G)+((1+S+T+U+V+W+X+Z)|H)\" │\n",
       "│ 4   │ \"kb07:1+S+T+U+V+W+X+Z+((1+S+T+U+V+W+X+Z)|G)+((1+S+T+U+V+W+X+Z)|H)\" │\n",
       "│ 5   │ \"kb07:1+S+T+U+V+W+X+Z+((1+S+T+U+V+W+X+Z)|G)+((1+S+T+U+V+W+X+Z)|H)\" │\n",
       "│ 6   │ \"kb07:1+S+T+U+V+W+X+Z+((1+S+T+U+V+W+X+Z)|G)+((1+S+T+U+V+W+X+Z)|H)\" │\n",
       "│ 7   │ \"kb07:1+S+T+U+V+W+X+Z+((1+S+T+U+V+W+X+Z)|G)+((1+S+T+U+V+W+X+Z)|H)\" │\n",
       "│ 8   │ \"kb07:1+S+T+U+V+W+X+Z+((1+S+T+U+V+W+X+Z)|G)+((1+S+T+U+V+W+X+Z)|H)\" │\n",
       "│ 9   │ \"kb07:1+S+T+U+V+W+X+Z+((1+S+T+U+V+W+X+Z)|G)+((1+S+T+U+V+W+X+Z)|H)\" │\n",
       "│ 10  │ \"kb07:1+S+T+U+V+W+X+Z+((1+S+T+U+V+W+X+Z)|G)+((1+S+T+U+V+W+X+Z)|H)\" │\n",
       "│ 11  │ \"kb07:1+S+T+U+V+W+X+Z+((1+S+T+U+V+W+X+Z)|G)+((1+S+T+U+V+W+X+Z)|H)\" │\n",
       "\n",
       "│ Row │ n    │ nopt │ p │ q         │ optimizer         │ objective │ elapsed │\n",
       "├─────┼──────┼──────┼───┼───────────┼───────────────────┼───────────┼─────────┤\n",
       "│ 1   │ 1790 │ 72   │ 8 │ \"448:256\" │ \"LN_BOBYQA\"       │ 28586.3   │ 16.0456 │\n",
       "│ 2   │ 1790 │ 72   │ 8 │ \"448:256\" │ \"LN_COBYLA\"       │ 28586.3   │ 1127.01 │\n",
       "│ 3   │ 1790 │ 72   │ 8 │ \"448:256\" │ \"LN_SBPLX\"        │ 28591.3   │ 135.82  │\n",
       "│ 4   │ 1790 │ 72   │ 8 │ \"448:256\" │ \"NLOPT_LN_BOBYQA\" │ 28586.3   │ 32.673  │\n",
       "│ 5   │ 1790 │ 72   │ 8 │ \"448:256\" │ \"NLOPT_LN_COBYLA\" │ 28586.3   │ 513.199 │\n",
       "│ 6   │ 1790 │ 72   │ 8 │ \"448:256\" │ \"NLOPT_LN_SBPLX\"  │ 28591.3   │ 421.246 │\n",
       "│ 7   │ 1790 │ 72   │ 8 │ \"448:256\" │ \"bobyqa\"          │ 28586.3   │ 318.717 │\n",
       "│ 8   │ 1790 │ 72   │ 8 │ \"448:256\" │ \"optimx:L-BFGS-B\" │ 28586.3   │ 174.617 │\n",
       "│ 9   │ 1790 │ 72   │ 8 │ \"448:256\" │ \"optimx:bobyqa\"   │ 28586.3   │ 323.417 │\n",
       "│ 10  │ 1790 │ 72   │ 8 │ \"448:256\" │ \"optimx:nlminb\"   │ 28586.3   │ 431.309 │\n",
       "│ 11  │ 1790 │ 72   │ 8 │ \"448:256\" │ \"optimx:spg\"      │ 28586.4   │ 130.093 │\n",
       "\n",
       "│ Row │ neval  │ excess      │\n",
       "├─────┼────────┼─────────────┤\n",
       "│ 1   │ 1949   │ 0.024008    │\n",
       "│ 2   │ 129098 │ 0.0237248   │\n",
       "│ 3   │ 16903  │ 4.96359     │\n",
       "│ 4   │ 1535   │ 0.0305885   │\n",
       "│ 5   │ 24585  │ 0.00288325  │\n",
       "│ 6   │ 8851   │ 4.96361     │\n",
       "│ 7   │ 15265  │ 0.0         │\n",
       "│ 8   │ 6      │ 0.000163041 │\n",
       "│ 9   │ NA     │ 0.0         │\n",
       "│ 10  │ 20108  │ 0.000379763 │\n",
       "│ 11  │ NA     │ 0.0719706   │"
      ]
     },
     "execution_count": 6,
     "metadata": {},
     "output_type": "execute_result"
    }
   ],
   "source": [
    "@where(results, :nopt .> 20)"
   ]
  },
  {
   "cell_type": "markdown",
   "metadata": {},
   "source": [
    "To simplify comparisons we will omit this outlier."
   ]
  },
  {
   "cell_type": "code",
   "execution_count": 7,
   "metadata": {
    "collapsed": false
   },
   "outputs": [
    {
     "data": {
      "text/html": [
       "<table class=\"data-frame\"><tr><th></th><th>optimizer</th><th>maxexcess</th></tr><tr><th>1</th><td>LN_BOBYQA</td><td>1.798651646822691e-5</td></tr><tr><th>2</th><td>LN_COBYLA</td><td>0.008445000654319301</td></tr><tr><th>3</th><td>LN_NELDERMEAD</td><td>571.3482102986018</td></tr><tr><th>4</th><td>LN_SBPLX</td><td>0.821957186994041</td></tr><tr><th>5</th><td>NLOPT_LN_BOBYQA</td><td>0.004379900172352791</td></tr><tr><th>6</th><td>NLOPT_LN_COBYLA</td><td>45.08287241923972</td></tr><tr><th>7</th><td>NLOPT_LN_NELDERMEAD</td><td>571.3482104094292</td></tr><tr><th>8</th><td>NLOPT_LN_SBPLX</td><td>0.8221875324697976</td></tr><tr><th>9</th><td>Nelder_Mead</td><td>331.52563495002687</td></tr><tr><th>10</th><td>bobyqa</td><td>18.22487979023117</td></tr><tr><th>11</th><td>optimx:L-BFGS-B</td><td>0.02413469974999316</td></tr><tr><th>12</th><td>optimx:bobyqa</td><td>18.22487979023117</td></tr><tr><th>13</th><td>optimx:nlminb</td><td>9.588493185219704e-6</td></tr><tr><th>14</th><td>optimx:spg</td><td>0.9347136863673882</td></tr></table>"
      ],
      "text/plain": [
       "14×2 DataFrames.DataFrame\n",
       "│ Row │ optimizer             │ maxexcess  │\n",
       "├─────┼───────────────────────┼────────────┤\n",
       "│ 1   │ \"LN_BOBYQA\"           │ 1.79865e-5 │\n",
       "│ 2   │ \"LN_COBYLA\"           │ 0.008445   │\n",
       "│ 3   │ \"LN_NELDERMEAD\"       │ 571.348    │\n",
       "│ 4   │ \"LN_SBPLX\"            │ 0.821957   │\n",
       "│ 5   │ \"NLOPT_LN_BOBYQA\"     │ 0.0043799  │\n",
       "│ 6   │ \"NLOPT_LN_COBYLA\"     │ 45.0829    │\n",
       "│ 7   │ \"NLOPT_LN_NELDERMEAD\" │ 571.348    │\n",
       "│ 8   │ \"NLOPT_LN_SBPLX\"      │ 0.822188   │\n",
       "│ 9   │ \"Nelder_Mead\"         │ 331.526    │\n",
       "│ 10  │ \"bobyqa\"              │ 18.2249    │\n",
       "│ 11  │ \"optimx:L-BFGS-B\"     │ 0.0241347  │\n",
       "│ 12  │ \"optimx:bobyqa\"       │ 18.2249    │\n",
       "│ 13  │ \"optimx:nlminb\"       │ 9.58849e-6 │\n",
       "│ 14  │ \"optimx:spg\"          │ 0.934714   │"
      ]
     },
     "execution_count": 7,
     "metadata": {},
     "output_type": "execute_result"
    }
   ],
   "source": [
    "results49 = @where(results, :nopt .< 50);\n",
    "@by(results49, :optimizer, maxexcess = maximum(:excess))"
   ]
  },
  {
   "cell_type": "markdown",
   "metadata": {},
   "source": [
    "## Comparing the speed of the optimizers\n",
    "\n",
    "The elapsed times cover a wide range and, of course, are very different for different problems. "
   ]
  },
  {
   "cell_type": "code",
   "execution_count": 8,
   "metadata": {
    "collapsed": false
   },
   "outputs": [
    {
     "data": {
      "text/html": [
       "<table class=\"data-frame\"><tr><th></th><th>dsmodel</th><th>minelapsed</th><th>maxelapsed</th></tr><tr><th>1</th><td>Alfalfa:1+A*B+(1|G)</td><td>0.000584173</td><td>0.192</td></tr><tr><th>2</th><td>Animal:1+(1|G)+(1|H)</td><td>0.000518281</td><td>0.193</td></tr><tr><th>3</th><td>Assay:1+A+B*C+(1|G)+(1|H)</td><td>0.001576767</td><td>0.204</td></tr><tr><th>4</th><td>AvgDailyGain:1+A*U+(1|G)</td><td>0.000515179</td><td>0.189</td></tr><tr><th>5</th><td>AvgDailyGain:1+A+U+(1|G)</td><td>0.000439551</td><td>0.188</td></tr><tr><th>6</th><td>BIB:1+A*U+(1|G)</td><td>0.000541229</td><td>0.189</td></tr><tr><th>7</th><td>Bond:1+A+(1|G)</td><td>0.000392641</td><td>0.188</td></tr><tr><th>8</th><td>Chem97:1+(1|G)+(1|H)</td><td>0.011816775</td><td>0.821</td></tr><tr><th>9</th><td>Chem97:1+U+(1|G)+(1|H)</td><td>0.012795451</td><td>1.114</td></tr><tr><th>10</th><td>Cultivation:1+A*B+(1|G)</td><td>0.000482953</td><td>0.194</td></tr><tr><th>11</th><td>Demand:1+U+V+W+X+(1|G)+(1|H)</td><td>0.000861109</td><td>0.207</td></tr><tr><th>12</th><td>Dyestuff2:1+(1|G)</td><td>0.000293028</td><td>0.192</td></tr><tr><th>13</th><td>Dyestuff:1+(1|G)</td><td>0.00035047</td><td>0.193</td></tr><tr><th>14</th><td>Exam:1+A+B+U+(1|G)</td><td>0.001155701</td><td>0.222</td></tr><tr><th>15</th><td>Gasoline:1+U+(1|G)</td><td>0.000411797</td><td>0.193</td></tr><tr><th>16</th><td>Genetics:1+A+(1|G)+(1|H)</td><td>0.000645898</td><td>0.203</td></tr><tr><th>17</th><td>HR:1+A*U+V+((1+U)|G)</td><td>0.002595765</td><td>0.207</td></tr><tr><th>18</th><td>Hsb82:1+A+B+C+U+(1|G)</td><td>0.001869231</td><td>0.253</td></tr><tr><th>19</th><td>IncBlk:1+A+U+V+W+Z+(1|G)</td><td>0.000523546</td><td>0.372</td></tr><tr><th>20</th><td>InstEval:1+A+(1|G)+(1|H)+(1|I)</td><td>2.274995858</td><td>33.962523804</td></tr><tr><th>21</th><td>InstEval:1+I*A+(1|G)+(1|H)</td><td>1.214463603</td><td>23.201</td></tr><tr><th>22</th><td>Mississippi:1+A+(1|G)</td><td>0.000528114</td><td>0.358</td></tr><tr><th>23</th><td>Oxboys:1+U+((1+U)|G)</td><td>0.00408369</td><td>0.216</td></tr><tr><th>24</th><td>PBIB:1+A+(1|G)</td><td>0.000510897</td><td>0.187</td></tr><tr><th>25</th><td>Pastes:1+(1|G)+(1|H)</td><td>0.000665742</td><td>0.193</td></tr><tr><th>26</th><td>Penicillin:1+(1|G)+(1|H)</td><td>0.00084467</td><td>0.199</td></tr><tr><th>27</th><td>Poems:1+U+V+(1|G)+(1|H)+(1|I)</td><td>3.230899545</td><td>58.332</td></tr><tr><th>28</th><td>SIMS:1+U+((1+U)|G)</td><td>0.026816062</td><td>3.881765348</td></tr><tr><th>29</th><td>ScotsSec:1+A+U+V+(1|G)+(1|H)</td><td>0.00277135</td><td>0.28</td></tr><tr><th>30</th><td>Semi2:1+A+(1|G)+(1|H)</td><td>0.000720322</td><td>0.202</td></tr><tr><th>&vellip;</th><td>&vellip;</td><td>&vellip;</td><td>&vellip;</td></tr></table>"
      ],
      "text/plain": [
       "49×3 DataFrames.DataFrame\n",
       "│ Row │ ├─────┼\n",
       "│ 1   │ │ 2   │ │ 3   │ │ 4   │ │ 5   │ │ 6   │ │ 7   │ │ 8   │ │ 9   │ │ 10  │ │ 11  │ \n",
       "⋮\n",
       "│ 38  │ │ 39  │ │ 40  │ │ 41  │ │ 42  │ │ 43  │ │ 44  │ │ 45  │ │ 46  │ │ 47  │ │ 48  │ │ 49  │ \n",
       "\n",
       "│ Row │ dsmodel                                                                                                                                                                        │\n",
       "├─────┼────────────────────────────────────────────────────────────────────────────────────────────────────────────────────────────────────────────────────────────────────────────────┤\n",
       "│ 1   │ \"Alfalfa:1+A*B+(1|G)\"                                                                                                                                                          │\n",
       "│ 2   │ \"Animal:1+(1|G)+(1|H)\"                                                                                                                                                         │\n",
       "│ 3   │ \"Assay:1+A+B*C+(1|G)+(1|H)\"                                                                                                                                                    │\n",
       "│ 4   │ \"AvgDailyGain:1+A*U+(1|G)\"                                                                                                                                                     │\n",
       "│ 5   │ \"AvgDailyGain:1+A+U+(1|G)\"                                                                                                                                                     │\n",
       "│ 6   │ \"BIB:1+A*U+(1|G)\"                                                                                                                                                              │\n",
       "│ 7   │ \"Bond:1+A+(1|G)\"                                                                                                                                                               │\n",
       "│ 8   │ \"Chem97:1+(1|G)+(1|H)\"                                                                                                                                                         │\n",
       "│ 9   │ \"Chem97:1+U+(1|G)+(1|H)\"                                                                                                                                                       │\n",
       "│ 10  │ \"Cultivation:1+A*B+(1|G)\"                                                                                                                                                      │\n",
       "│ 11  │ \"Demand:1+U+V+W+X+(1|G)+(1|H)\"                                                                                                                                                 │\n",
       "⋮\n",
       "│ 38  │ \"egsingle:1+A+U*V+(1|G)+(1|H)\"                                                                                                                                                 │\n",
       "│ 39  │ \"ergoStool:1+A+(1|G)\"                                                                                                                                                          │\n",
       "│ 40  │ \"gb12:1+S+T+U+V+W+(1|G)+((0+S)|G)+((0+U)|G)+((0+W)|G)+(1|H)+((0+S)|H)+((0+T)|H)+((0+V)|H)\"                                                                                     │\n",
       "│ 41  │ \"gb12:1+S+T+U+V+W+X+Z+((1+S+U+W)|G)+((1+S+T+V)|H)\"                                                                                                                             │\n",
       "│ 42  │ \"kb07:1+S+T+U+V+W+X+Z+(1|G)+((0+S)|G)+((0+T)|G)+((0+U)|G)+((0+V)|G)+((0+W)|G)+((0+X)|G)+((0+Z)|G)+(1|H)+((0+S)|H)+((0+T)|H)+((0+U)|H)+((0+V)|H)+((0+W)|H)+((0+X)|H)+((0+Z)|H)\" │\n",
       "│ 43  │ \"ml10m:1+(1|G)+(1|H)\"                                                                                                                                                          │\n",
       "│ 44  │ \"ml1m:1+(1|G)+(1|H)\"                                                                                                                                                           │\n",
       "│ 45  │ \"mm0:1+A*U+((1+U)|G)+((1+U)|H)\"                                                                                                                                                │\n",
       "│ 46  │ \"paulsim:1+S+T+U+(0+S|G)\"                                                                                                                                                      │\n",
       "│ 47  │ \"paulsim:1+S+T+U+(1|G)+(0+S|G)\"                                                                                                                                                │\n",
       "│ 48  │ \"sleepstudy:1+U+((1+U)|G)\"                                                                                                                                                     │\n",
       "│ 49  │ \"sleepstudy:1+U+(1|G)+(0+U|G)\"                                                                                                                                                 │\n",
       "\n",
       "│ Row │ minelapsed  │ maxelapsed │\n",
       "├─────┼─────────────┼────────────┤\n",
       "│ 1   │ 0.000584173 │ 0.192      │\n",
       "│ 2   │ 0.000518281 │ 0.193      │\n",
       "│ 3   │ 0.00157677  │ 0.204      │\n",
       "│ 4   │ 0.000515179 │ 0.189      │\n",
       "│ 5   │ 0.000439551 │ 0.188      │\n",
       "│ 6   │ 0.000541229 │ 0.189      │\n",
       "│ 7   │ 0.000392641 │ 0.188      │\n",
       "│ 8   │ 0.0118168   │ 0.821      │\n",
       "│ 9   │ 0.0127955   │ 1.114      │\n",
       "│ 10  │ 0.000482953 │ 0.194      │\n",
       "│ 11  │ 0.000861109 │ 0.207      │\n",
       "⋮\n",
       "│ 38  │ 0.0121335   │ 0.431      │\n",
       "│ 39  │ 0.000426819 │ 0.195      │\n",
       "│ 40  │ 0.061411    │ 1.668      │\n",
       "│ 41  │ 0.332702    │ 8.454      │\n",
       "│ 42  │ 1.59066     │ 49.717     │\n",
       "│ 43  │ 424.364     │ 7141.95    │\n",
       "│ 44  │ 17.3869     │ 2029.25    │\n",
       "│ 45  │ 0.452533    │ 55.109     │\n",
       "│ 46  │ 0.00244088  │ 0.439      │\n",
       "│ 47  │ 0.00434299  │ 9.639      │\n",
       "│ 48  │ 0.00182075  │ 0.311      │\n",
       "│ 49  │ 0.000794842 │ 0.301      │"
      ]
     },
     "execution_count": 8,
     "metadata": {},
     "output_type": "execute_result"
    }
   ],
   "source": [
    "@by(results49, :dsmodel, minelapsed = minimum(:elapsed), maxelapsed = maximum(:elapsed))"
   ]
  },
  {
   "cell_type": "markdown",
   "metadata": {},
   "source": [
    "To compare speeds within problems we determine the ratio of the elapsed time to the minimum elapsed time of those optimizers that converged.  For non-convergence the function returns `Inf`."
   ]
  },
  {
   "cell_type": "code",
   "execution_count": 9,
   "metadata": {
    "collapsed": false
   },
   "outputs": [
    {
     "name": "stdout",
     "output_type": "stream",
     "text": [
      "[1.0,1.0749022740890803,1.034254001769053,1.2004964761605843,51.359602819071526,51.359602819071526,51.359602819071526,54.212914086797724,54.212914086797724,45.65298028361914,302.45099437897676,302.45099437897676,302.45099437897676,550.6890746711558]"
     ]
    }
   ],
   "source": [
    "function ratioelapsed(objective, elapsed)\n",
    "    minobj = minimum(objective)\n",
    "    adjtime = map((o, e) -> (o - minobj) < 0.05 ? e : Inf, objective, elapsed)\n",
    "    adjtime ./ minimum(adjtime)\n",
    "end    \n",
    "\n",
    "dyestuff = @where(results, :dsmodel .== \"Dyestuff:1+(1|G)\")\n",
    "\n",
    "showcompact(@with(dyestuff, ratioelapsed(:objective, :elapsed)))"
   ]
  },
  {
   "cell_type": "code",
   "execution_count": 10,
   "metadata": {
    "collapsed": false
   },
   "outputs": [
    {
     "data": {
      "text/html": [
       "<table class=\"data-frame\"><tr><th></th><th>optimizer</th><th>gmean</th></tr><tr><th>1</th><td>LN_BOBYQA</td><td>1.022683281071162</td></tr><tr><th>2</th><td>LN_COBYLA</td><td>2.9674989384403254</td></tr><tr><th>3</th><td>LN_NELDERMEAD</td><td>1.3527351638848064</td></tr><tr><th>4</th><td>LN_SBPLX</td><td>1.8050935484858721</td></tr><tr><th>5</th><td>NLOPT_LN_BOBYQA</td><td>17.994981862738335</td></tr><tr><th>6</th><td>NLOPT_LN_COBYLA</td><td>27.604518839385108</td></tr><tr><th>7</th><td>NLOPT_LN_NELDERMEAD</td><td>27.241559639706217</td></tr><tr><th>8</th><td>NLOPT_LN_SBPLX</td><td>27.80115222079374</td></tr><tr><th>9</th><td>Nelder_Mead</td><td>31.644214473268438</td></tr><tr><th>10</th><td>bobyqa</td><td>23.69399090788638</td></tr><tr><th>11</th><td>optimx:L-BFGS-B</td><td>79.35363022585963</td></tr><tr><th>12</th><td>optimx:bobyqa</td><td>86.64662582000653</td></tr><tr><th>13</th><td>optimx:nlminb</td><td>82.56630318766759</td></tr><tr><th>14</th><td>optimx:spg</td><td>138.38324372730835</td></tr></table>"
      ],
      "text/plain": [
       "14×2 DataFrames.DataFrame\n",
       "│ Row │ optimizer             │ gmean   │\n",
       "├─────┼───────────────────────┼─────────┤\n",
       "│ 1   │ \"LN_BOBYQA\"           │ 1.02268 │\n",
       "│ 2   │ \"LN_COBYLA\"           │ 2.9675  │\n",
       "│ 3   │ \"LN_NELDERMEAD\"       │ 1.35274 │\n",
       "│ 4   │ \"LN_SBPLX\"            │ 1.80509 │\n",
       "│ 5   │ \"NLOPT_LN_BOBYQA\"     │ 17.995  │\n",
       "│ 6   │ \"NLOPT_LN_COBYLA\"     │ 27.6045 │\n",
       "│ 7   │ \"NLOPT_LN_NELDERMEAD\" │ 27.2416 │\n",
       "│ 8   │ \"NLOPT_LN_SBPLX\"      │ 27.8012 │\n",
       "│ 9   │ \"Nelder_Mead\"         │ 31.6442 │\n",
       "│ 10  │ \"bobyqa\"              │ 23.694  │\n",
       "│ 11  │ \"optimx:L-BFGS-B\"     │ 79.3536 │\n",
       "│ 12  │ \"optimx:bobyqa\"       │ 86.6466 │\n",
       "│ 13  │ \"optimx:nlminb\"       │ 82.5663 │\n",
       "│ 14  │ \"optimx:spg\"          │ 138.383 │"
      ]
     },
     "execution_count": 10,
     "metadata": {},
     "output_type": "execute_result"
    }
   ],
   "source": [
    "ratio = @by(results, :dsmodel, optimizer = :optimizer, ratio = ratioelapsed(:objective, :elapsed));\n",
    "@by(ratio, :optimizer, gmean = geomean(filter(isfinite, convert(Array, :ratio))))"
   ]
  },
  {
   "cell_type": "code",
   "execution_count": 11,
   "metadata": {
    "collapsed": false
   },
   "outputs": [
    {
     "data": {
      "image/png": "[encoded data removed]"
     },
     "metadata": {},
     "output_type": "display_data"
    },
    {
     "data": {
      "text/plain": [
       "RCall.RObject{RCall.VecSxp}\n"
      ]
     },
     "execution_count": 11,
     "metadata": {},
     "output_type": "execute_result"
    }
   ],
   "source": [
    "R\"\"\"\n",
    "bwplot(reorder(optimizer, ratio, median) ~ ratio, $ratio, \n",
    "scales = list(x = list(log = TRUE)))\n",
    "\"\"\""
   ]
  },
  {
   "cell_type": "code",
   "execution_count": 12,
   "metadata": {
    "collapsed": false
   },
   "outputs": [
    {
     "data": {
      "text/plain": [
       "Dict{UTF8String,Int64} with 3 entries:\n",
       "  \"LN_NELDERMEAD\" => 3\n",
       "  \"LN_COBYLA\"     => 7\n",
       "  \"LN_BOBYQA\"     => 40"
      ]
     },
     "execution_count": 12,
     "metadata": {},
     "output_type": "execute_result"
    }
   ],
   "source": [
    "countmap(convert(Array, @where(ratio, :ratio .== 1)[:optimizer]))"
   ]
  },
  {
   "cell_type": "markdown",
   "metadata": {},
   "source": [
    "## Comparing time per evaluation\n",
    "\n",
    "Differences in optimization times are due to two factors: time per evaluation of the objective function and the number of evaluations required to converge.  Usually the overhead of setting up the optimization problem and assembling the object to be returned is negligible compared to the time spent evaluating the objective function.  The `:sperv` column will be the number of seconds per function evaluation.  The `:lang` column will be an indicator of `Julia` or `R`."
   ]
  },
  {
   "cell_type": "code",
   "execution_count": 13,
   "metadata": {
    "collapsed": false
   },
   "outputs": [
    {
     "ename": "LoadError",
     "evalue": "LoadError: InexactError()\nwhile loading In[13], in expression starting on line 4",
     "output_type": "error",
     "traceback": [
      "LoadError: InexactError()\nwhile loading In[13], in expression starting on line 4",
      "",
      " in copy! at abstractarray.jl:310",
      " in sexp at /home/bates/.julia/v0.4/RCall/src/convert-base.jl:132",
      " in sexp at /home/bates/.julia/v0.4/RCall/src/convert-data.jl:32",
      " in sexp at /home/bates/.julia/v0.4/RCall/src/convert-data.jl:59",
      " in setindex! at /home/bates/.julia/v0.4/RCall/src/methods.jl:387",
      " in setindex! at /home/bates/.julia/v0.4/RCall/src/methods.jl:396"
     ]
    }
   ],
   "source": [
    "results = @transform(results, sperv = :elapsed ./ :neval);\n",
    "results[:lang] = pool([ismatch(r\"^LN\", x) ? \"J\" : \"R\"\n",
    "    for x in results[:optimizer]]);\n",
    "@rput results\n",
    "# FIXME: shorten the dsmodel strings\n",
    "R\"\"\"\n",
    "dotplot(dsmodel ~ sperv, results, groups = lang, \n",
    "auto.key = list(space = \"top\", columns = 2))\n",
    "\"\"\""
   ]
  },
  {
   "cell_type": "code",
   "execution_count": 14,
   "metadata": {
    "collapsed": false
   },
   "outputs": [
    {
     "data": {
      "text/html": [
       "<table class=\"data-frame\"><tr><th></th><th>dsmodel</th><th>jpereval</th><th>n</th><th>p</th><th>q</th><th>nopt</th><th>rpereval</th><th>ratio</th></tr><tr><th>1</th><td>Alfalfa:1+A*B+(1|G)</td><td>3.509252941176471e-5</td><td>72</td><td>12</td><td>6</td><td>1</td><td>0.0016153846153846155</td><td>46.03215107210428</td></tr><tr><th>2</th><td>Animal:1+(1|G)+(1|H)</td><td>3.4552066666666664e-5</td><td>20</td><td>1</td><td>10:5</td><td>2</td><td>0.0015333333333333334</td><td>44.37747090863837</td></tr><tr><th>3</th><td>Assay:1+A+B*C+(1|G)+(1|H)</td><td>5.0863451612903226e-5</td><td>60</td><td>31</td><td>12:10</td><td>2</td><td>0.001</td><td>19.660482493608757</td></tr><tr><th>4</th><td>AvgDailyGain:1+A*U+(1|G)</td><td>2.040325e-5</td><td>32</td><td>8</td><td>8</td><td>1</td><td>0.0018</td><td>88.22123926335264</td></tr><tr><th>5</th><td>AvgDailyGain:1+A+U+(1|G)</td><td>2.5855941176470586e-5</td><td>32</td><td>5</td><td>8</td><td>1</td><td>0.0012666666666666666</td><td>48.98938538038438</td></tr><tr><th>6</th><td>BIB:1+A*U+(1|G)</td><td>1.847078125e-5</td><td>24</td><td>8</td><td>8</td><td>1</td><td>0.0011176470588235294</td><td>60.50892183152943</td></tr><tr><th>7</th><td>Bond:1+A+(1|G)</td><td>2.1813388888888888e-5</td><td>21</td><td>3</td><td>7</td><td>1</td><td>0.0018</td><td>82.51812724600845</td></tr><tr><th>8</th><td>Chem97:1+(1|G)+(1|H)</td><td>0.00036927421875</td><td>31022</td><td>1</td><td>2410:131</td><td>2</td><td>0.012594594594594595</td><td>34.10634686934693</td></tr><tr><th>9</th><td>Chem97:1+U+(1|G)+(1|H)</td><td>0.0004127564838709677</td><td>31022</td><td>2</td><td>2410:131</td><td>2</td><td>0.010971428571428571</td><td>26.580875165266605</td></tr><tr><th>10</th><td>Cultivation:1+A*B+(1|G)</td><td>3.7150230769230766e-5</td><td>24</td><td>6</td><td>4</td><td>1</td><td>0.0017272727272727272</td><td>46.4942664287114</td></tr><tr><th>11</th><td>Demand:1+U+V+W+X+(1|G)+(1|H)</td><td>2.1527725e-5</td><td>77</td><td>5</td><td>11:7</td><td>2</td><td>0.0008620689655172415</td><td>40.044592055929805</td></tr><tr><th>12</th><td>Dyestuff2:1+(1|G)</td><td>1.758225e-5</td><td>30</td><td>1</td><td>6</td><td>1</td><td>0.0018</td><td>102.37597577101907</td></tr><tr><th>13</th><td>Dyestuff:1+(1|G)</td><td>1.9470555555555557e-5</td><td>30</td><td>1</td><td>6</td><td>1</td><td>0.001</td><td>51.359602819071526</td></tr><tr><th>14</th><td>Exam:1+A+B+U+(1|G)</td><td>5.778505000000001e-5</td><td>4059</td><td>5</td><td>65</td><td>1</td><td>0.0022941176470588237</td><td>39.700885385732526</td></tr><tr><th>15</th><td>Gasoline:1+U+(1|G)</td><td>1.9909761904761906e-5</td><td>32</td><td>2</td><td>10</td><td>1</td><td>0.0007307692307692308</td><td>36.704066792202546</td></tr><tr><th>16</th><td>Genetics:1+A+(1|G)+(1|H)</td><td>2.1529933333333332e-5</td><td>60</td><td>5</td><td>12:4</td><td>2</td><td>0.0008275862068965517</td><td>38.43886528042594</td></tr><tr><th>17</th><td>HR:1+A*U+V+((1+U)|G)</td><td>5.522904255319149e-5</td><td>120</td><td>7</td><td>48</td><td>3</td><td>0.0005348837209302325</td><td>9.684826971517424</td></tr><tr><th>18</th><td>Hsb82:1+A+B+C+U+(1|G)</td><td>0.0001335165</td><td>7185</td><td>5</td><td>160</td><td>1</td><td>0.004</td><td>29.95884403800279</td></tr><tr><th>19</th><td>IncBlk:1+A+U+V+W+Z+(1|G)</td><td>4.027276923076923e-5</td><td>24</td><td>8</td><td>12</td><td>1</td><td>0.0014285714285714286</td><td>35.47239129212824</td></tr><tr><th>20</th><td>InstEval:1+A+(1|G)+(1|H)+(1|I)</td><td>0.021874960173076923</td><td>73421</td><td>2</td><td>2972:1128:14</td><td>3</td><td>0.13369620253164557</td><td>6.1118375290207405</td></tr><tr><th>21</th><td>InstEval:1+I*A+(1|G)+(1|H)</td><td>0.0253013250625</td><td>73421</td><td>28</td><td>2972:1128</td><td>2</td><td>0.20125806451612901</td><td>7.954447603790554</td></tr><tr><th>22</th><td>Mississippi:1+A+(1|G)</td><td>3.772242857142857e-5</td><td>37</td><td>3</td><td>6</td><td>1</td><td>0.0019</td><td>50.367912988483546</td></tr><tr><th>23</th><td>Oxboys:1+U+((1+U)|G)</td><td>3.2882248677248676e-5</td><td>234</td><td>2</td><td>52</td><td>3</td><td>0.0002040816326530612</td><td>6.20643784603046</td></tr><tr><th>24</th><td>PBIB:1+A+(1|G)</td><td>2.8383166666666663e-5</td><td>60</td><td>15</td><td>15</td><td>1</td><td>0.0013571428571428571</td><td>47.81506140879949</td></tr><tr><th>25</th><td>Pastes:1+(1|G)+(1|H)</td><td>1.90212e-5</td><td>60</td><td>1</td><td>30:10</td><td>2</td><td>0.0006764705882352941</td><td>35.564033196396345</td></tr><tr><th>26</th><td>Penicillin:1+(1|G)+(1|H)</td><td>1.9197045454545455e-5</td><td>144</td><td>1</td><td>24:6</td><td>2</td><td>0.0008518518518518518</td><td>44.37411235332316</td></tr><tr><th>27</th><td>Poems:1+U+V+(1|G)+(1|H)+(1|I)</td><td>0.03230899545</td><td>275996</td><td>3</td><td>2315:326:87</td><td>3</td><td>0.2630487804878049</td><td>8.141657666048074</td></tr><tr><th>28</th><td>SIMS:1+U+((1+U)|G)</td><td>0.000192921309352518</td><td>3691</td><td>2</td><td>380</td><td>3</td><td>0.0009015151515151514</td><td>4.6729682404749076</td></tr><tr><th>29</th><td>ScotsSec:1+A+U+V+(1|G)+(1|H)</td><td>6.445000000000001e-5</td><td>3435</td><td>4</td><td>148:19</td><td>2</td><td>0.0019677419354838708</td><td>30.53129457694136</td></tr><tr><th>30</th><td>Semi2:1+A+(1|G)+(1|H)</td><td>1.5761125e-5</td><td>72</td><td>2</td><td>24:8</td><td>2</td><td>0.0008</td><td>50.75779806327277</td></tr><tr><th>&vellip;</th><td>&vellip;</td><td>&vellip;</td><td>&vellip;</td><td>&vellip;</td><td>&vellip;</td><td>&vellip;</td><td>&vellip;</td><td>&vellip;</td></tr></table>"
      ],
      "text/plain": [
       "50×8 DataFrames.DataFrame\n",
       "│ Row │ ├─────┼\n",
       "│ 1   │ │ 2   │ │ 3   │ │ 4   │ │ 5   │ │ 6   │ │ 7   │ │ 8   │ │ 9   │ │ 10  │ │ 11  │ \n",
       "⋮\n",
       "│ 39  │ │ 40  │ │ 41  │ │ 42  │ │ 43  │ │ 44  │ │ 45  │ │ 46  │ │ 47  │ │ 48  │ │ 49  │ │ 50  │ \n",
       "\n",
       "│ Row │ dsmodel                                                                                                                                                                        │\n",
       "├─────┼────────────────────────────────────────────────────────────────────────────────────────────────────────────────────────────────────────────────────────────────────────────────┤\n",
       "│ 1   │ \"Alfalfa:1+A*B+(1|G)\"                                                                                                                                                          │\n",
       "│ 2   │ \"Animal:1+(1|G)+(1|H)\"                                                                                                                                                         │\n",
       "│ 3   │ \"Assay:1+A+B*C+(1|G)+(1|H)\"                                                                                                                                                    │\n",
       "│ 4   │ \"AvgDailyGain:1+A*U+(1|G)\"                                                                                                                                                     │\n",
       "│ 5   │ \"AvgDailyGain:1+A+U+(1|G)\"                                                                                                                                                     │\n",
       "│ 6   │ \"BIB:1+A*U+(1|G)\"                                                                                                                                                              │\n",
       "│ 7   │ \"Bond:1+A+(1|G)\"                                                                                                                                                               │\n",
       "│ 8   │ \"Chem97:1+(1|G)+(1|H)\"                                                                                                                                                         │\n",
       "│ 9   │ \"Chem97:1+U+(1|G)+(1|H)\"                                                                                                                                                       │\n",
       "│ 10  │ \"Cultivation:1+A*B+(1|G)\"                                                                                                                                                      │\n",
       "│ 11  │ \"Demand:1+U+V+W+X+(1|G)+(1|H)\"                                                                                                                                                 │\n",
       "⋮\n",
       "│ 39  │ \"ergoStool:1+A+(1|G)\"                                                                                                                                                          │\n",
       "│ 40  │ \"gb12:1+S+T+U+V+W+(1|G)+((0+S)|G)+((0+U)|G)+((0+W)|G)+(1|H)+((0+S)|H)+((0+T)|H)+((0+V)|H)\"                                                                                     │\n",
       "│ 41  │ \"gb12:1+S+T+U+V+W+X+Z+((1+S+U+W)|G)+((1+S+T+V)|H)\"                                                                                                                             │\n",
       "│ 42  │ \"kb07:1+S+T+U+V+W+X+Z+((1+S+T+U+V+W+X+Z)|G)+((1+S+T+U+V+W+X+Z)|H)\"                                                                                                             │\n",
       "│ 43  │ \"kb07:1+S+T+U+V+W+X+Z+(1|G)+((0+S)|G)+((0+T)|G)+((0+U)|G)+((0+V)|G)+((0+W)|G)+((0+X)|G)+((0+Z)|G)+(1|H)+((0+S)|H)+((0+T)|H)+((0+U)|H)+((0+V)|H)+((0+W)|H)+((0+X)|H)+((0+Z)|H)\" │\n",
       "│ 44  │ \"ml10m:1+(1|G)+(1|H)\"                                                                                                                                                          │\n",
       "│ 45  │ \"ml1m:1+(1|G)+(1|H)\"                                                                                                                                                           │\n",
       "│ 46  │ \"mm0:1+A*U+((1+U)|G)+((1+U)|H)\"                                                                                                                                                │\n",
       "│ 47  │ \"paulsim:1+S+T+U+(0+S|G)\"                                                                                                                                                      │\n",
       "│ 48  │ \"paulsim:1+S+T+U+(1|G)+(0+S|G)\"                                                                                                                                                │\n",
       "│ 49  │ \"sleepstudy:1+U+((1+U)|G)\"                                                                                                                                                     │\n",
       "│ 50  │ \"sleepstudy:1+U+(1|G)+(0+U|G)\"                                                                                                                                                 │\n",
       "\n",
       "│ Row │ jpereval    │ n        │ p  │\n",
       "├─────┼─────────────┼──────────┼────┤\n",
       "│ 1   │ 3.50925e-5  │ 72       │ 12 │\n",
       "│ 2   │ 3.45521e-5  │ 20       │ 1  │\n",
       "│ 3   │ 5.08635e-5  │ 60       │ 31 │\n",
       "│ 4   │ 2.04033e-5  │ 32       │ 8  │\n",
       "│ 5   │ 2.58559e-5  │ 32       │ 5  │\n",
       "│ 6   │ 1.84708e-5  │ 24       │ 8  │\n",
       "│ 7   │ 2.18134e-5  │ 21       │ 3  │\n",
       "│ 8   │ 0.000369274 │ 31022    │ 1  │\n",
       "│ 9   │ 0.000412756 │ 31022    │ 2  │\n",
       "│ 10  │ 3.71502e-5  │ 24       │ 6  │\n",
       "│ 11  │ 2.15277e-5  │ 77       │ 5  │\n",
       "⋮\n",
       "│ 39  │ 2.73324e-5  │ 36       │ 4  │\n",
       "│ 40  │ 0.000323216 │ 512      │ 6  │\n",
       "│ 41  │ 0.000759593 │ 512      │ 8  │\n",
       "│ 42  │ 0.00823273  │ 1790     │ 8  │\n",
       "│ 43  │ 0.00516447  │ 1790     │ 8  │\n",
       "│ 44  │ 10.1039     │ 10000054 │ 1  │\n",
       "│ 45  │ 0.599547    │ 1000209  │ 1  │\n",
       "│ 46  │ 0.00114565  │ 69588    │ 4  │\n",
       "│ 47  │ 6.01563e-5  │ 15419    │ 4  │\n",
       "│ 48  │ 6.728e-5    │ 15419    │ 4  │\n",
       "│ 49  │ 3.1943e-5   │ 180      │ 2  │\n",
       "│ 50  │ 2.64947e-5  │ 180      │ 2  │\n",
       "\n",
       "│ Row │ q                                                 │ nopt │ rpereval    │\n",
       "├─────┼───────────────────────────────────────────────────┼──────┼─────────────┤\n",
       "│ 1   │ \"6\"                                               │ 1    │ 0.00161538  │\n",
       "│ 2   │ \"10:5\"                                            │ 2    │ 0.00153333  │\n",
       "│ 3   │ \"12:10\"                                           │ 2    │ 0.001       │\n",
       "│ 4   │ \"8\"                                               │ 1    │ 0.0018      │\n",
       "│ 5   │ \"8\"                                               │ 1    │ 0.00126667  │\n",
       "│ 6   │ \"8\"                                               │ 1    │ 0.00111765  │\n",
       "│ 7   │ \"7\"                                               │ 1    │ 0.0018      │\n",
       "│ 8   │ \"2410:131\"                                        │ 2    │ 0.0125946   │\n",
       "│ 9   │ \"2410:131\"                                        │ 2    │ 0.0109714   │\n",
       "│ 10  │ \"4\"                                               │ 1    │ 0.00172727  │\n",
       "│ 11  │ \"11:7\"                                            │ 2    │ 0.000862069 │\n",
       "⋮\n",
       "│ 39  │ \"9\"                                               │ 1    │ 0.00163636  │\n",
       "│ 40  │ \"32:32:32:32:16:16:16:16\"                         │ 8    │ 0.00161379  │\n",
       "│ 41  │ \"128:64\"                                          │ 20   │ 0.00139259  │\n",
       "│ 42  │ \"448:256\"                                         │ 72   │ 0.0212853   │\n",
       "│ 43  │ \"56:56:56:56:56:56:56:56:32:32:32:32:32:32:32:32\" │ 16   │ 0.0222607   │\n",
       "│ 44  │ \"69878:10677\"                                     │ 2    │ 183.127     │\n",
       "│ 45  │ \"6040:3706\"                                       │ 2    │ 8.78032     │\n",
       "│ 46  │ \"120:74\"                                          │ 6    │ 0.0275989   │\n",
       "│ 47  │ \"100\"                                             │ 1    │ 0.00352778  │\n",
       "│ 48  │ \"100:100\"                                         │ 2    │ 0.00422059  │\n",
       "│ 49  │ \"36\"                                              │ 3    │ 0.00048     │\n",
       "│ 50  │ \"18:18\"                                           │ 2    │ 0.00103846  │\n",
       "\n",
       "│ Row │ ratio   │\n",
       "├─────┼─────────┤\n",
       "│ 1   │ 46.0322 │\n",
       "│ 2   │ 44.3775 │\n",
       "│ 3   │ 19.6605 │\n",
       "│ 4   │ 88.2212 │\n",
       "│ 5   │ 48.9894 │\n",
       "│ 6   │ 60.5089 │\n",
       "│ 7   │ 82.5181 │\n",
       "│ 8   │ 34.1063 │\n",
       "│ 9   │ 26.5809 │\n",
       "│ 10  │ 46.4943 │\n",
       "│ 11  │ 40.0446 │\n",
       "⋮\n",
       "│ 39  │ 59.8689 │\n",
       "│ 40  │ 4.99293 │\n",
       "│ 41  │ 1.83334 │\n",
       "│ 42  │ 2.58546 │\n",
       "│ 43  │ 4.31036 │\n",
       "│ 44  │ 18.1244 │\n",
       "│ 45  │ 14.6449 │\n",
       "│ 46  │ 24.0901 │\n",
       "│ 47  │ 58.6436 │\n",
       "│ 48  │ 62.7317 │\n",
       "│ 49  │ 15.0267 │\n",
       "│ 50  │ 39.195  │"
      ]
     },
     "execution_count": 14,
     "metadata": {},
     "output_type": "execute_result"
    }
   ],
   "source": [
    "jpereval = @linq results |> where(:optimizer .== \"LN_BOBYQA\") |>\n",
    "    transform(jpereval = :elapsed ./ :neval) |>\n",
    "    select(:dsmodel, :jpereval, :n, :p, :q, :nopt);\n",
    "rpereval = @linq results |> where(:optimizer .== \"NLOPT_LN_BOBYQA\") |>\n",
    "    transform(rpereval = :elapsed ./ :neval) |> \n",
    "    select(:dsmodel, :rpereval);\n",
    "pereval = @transform(join(jpereval, rpereval, on = :dsmodel),\n",
    "    ratio = :rpereval ./ :jpereval)"
   ]
  },
  {
   "cell_type": "code",
   "execution_count": 15,
   "metadata": {
    "collapsed": false
   },
   "outputs": [],
   "source": [
    "noptfun(x) = x < 4 ? string(x) : \">3\"\n",
    "pereval[:noptf] = \n",
    "   pool([noptfun(x)::ASCIIString for x in pereval[:nopt]]);\n",
    "@rput pereval;"
   ]
  },
  {
   "cell_type": "code",
   "execution_count": 16,
   "metadata": {
    "collapsed": false
   },
   "outputs": [
    {
     "data": {
      "image/png": "[encoded data removed]"
     },
     "metadata": {},
     "output_type": "display_data"
    },
    {
     "data": {
      "text/plain": [
       "RCall.RObject{RCall.VecSxp}\n"
      ]
     },
     "execution_count": 16,
     "metadata": {},
     "output_type": "execute_result"
    }
   ],
   "source": [
    "R\"\"\"\n",
    "xyplot(rpereval ~ jpereval, pereval, type = c(\"g\",\"p\", \"smooth\"), \n",
    "    scales = list(log = TRUE), groups = noptf)\n",
    "\"\"\""
   ]
  },
  {
   "cell_type": "code",
   "execution_count": 17,
   "metadata": {
    "collapsed": false
   },
   "outputs": [
    {
     "data": {
      "text/plain": [
       "RCall.RObject{RCall.VecSxp}\n",
       "\n",
       "Call:\n",
       "lm(formula = log10(rpereval) ~ 1 + log10(jpereval) + noptf, data = pereval)\n",
       "\n",
       "Residuals:\n",
       "     Min       1Q   Median       3Q      Max \n",
       "-0.45980 -0.13741  0.01767  0.09320  0.75276 \n",
       "\n",
       "Coefficients:\n",
       "                Estimate Std. Error t value Pr(>|t|)\n",
       "(Intercept)      1.28390    0.13749   9.338 4.25e-12\n",
       "log10(jpereval)  0.90907    0.02847  31.930  < 2e-16\n",
       "noptf2          -0.15082    0.07967  -1.893   0.0648\n",
       "noptf3          -0.74373    0.09618  -7.733 8.47e-10\n",
       "noptf>3         -0.92225    0.10812  -8.530 5.92e-11\n",
       "\n",
       "Residual standard error: 0.2204 on 45 degrees of freedom\n",
       "Multiple R-squared:  0.9619,\tAdjusted R-squared:  0.9585 \n",
       "F-statistic: 283.8 on 4 and 45 DF,  p-value: < 2.2e-16\n",
       "\n"
      ]
     },
     "execution_count": 17,
     "metadata": {},
     "output_type": "execute_result"
    }
   ],
   "source": [
    "R\"\"\"\n",
    "options(show.signif.stars = FALSE)\n",
    "summary(m1 <- lm(log10(rpereval) ~ 1 + log10(jpereval) + noptf, pereval))\n",
    "\"\"\""
   ]
  },
  {
   "cell_type": "code",
   "execution_count": 18,
   "metadata": {
    "collapsed": false
   },
   "outputs": [
    {
     "data": {
      "image/png": "[encoded data removed]"
     },
     "metadata": {},
     "output_type": "display_data"
    },
    {
     "data": {
      "text/plain": [
       "RCall.RObject{RCall.VecSxp}\n"
      ]
     },
     "execution_count": 18,
     "metadata": {},
     "output_type": "execute_result"
    }
   ],
   "source": [
    "R\"\"\" \n",
    "densityplot(~ ratio, pereval, scales = list(x = list(log = TRUE)),\n",
    "xlab = \"Ratio of seconds per evaluation\", groups = noptf)\n",
    "\"\"\""
   ]
  },
  {
   "cell_type": "code",
   "execution_count": 19,
   "metadata": {
    "collapsed": false
   },
   "outputs": [
    {
     "data": {
      "image/png": "[encoded data removed]"
     },
     "metadata": {},
     "output_type": "display_data"
    },
    {
     "data": {
      "text/plain": [
       "RCall.RObject{RCall.VecSxp}\n"
      ]
     },
     "execution_count": 19,
     "metadata": {},
     "output_type": "execute_result"
    }
   ],
   "source": [
    "R\"\"\"\n",
    "xyplot(ratio ~ n, $pereval, type = c(\"g\",\"p\"), \n",
    "    scales = list(log = TRUE), groups = noptf,\n",
    "    auto.key = list(space = \"right\"))\n",
    "\"\"\""
   ]
  }
 ],
 "metadata": {
  "kernelspec": {
   "display_name": "Julia 0.4.6",
   "language": "julia",
   "name": "julia-0.4"
  },
  "language_info": {
   "file_extension": ".jl",
   "mimetype": "application/julia",
   "name": "julia",
   "version": "0.4.6"
  }
 },
 "nbformat": 4,
 "nbformat_minor": 0
}
